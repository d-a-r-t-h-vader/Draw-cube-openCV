{
 "cells": [
  {
   "cell_type": "code",
   "execution_count": 2,
   "id": "da5c7cb8",
   "metadata": {},
   "outputs": [
    {
     "ename": "NameError",
     "evalue": "name 'mtx' is not defined",
     "output_type": "error",
     "traceback": [
      "\u001b[0;31m---------------------------------------------------------------------------\u001b[0m",
      "\u001b[0;31mNameError\u001b[0m                                 Traceback (most recent call last)",
      "Input \u001b[0;32mIn [2]\u001b[0m, in \u001b[0;36m<cell line: 34>\u001b[0;34m()\u001b[0m\n\u001b[1;32m     28\u001b[0m     plt\u001b[38;5;241m.\u001b[39mfigure(figsize\u001b[38;5;241m=\u001b[39m(\u001b[38;5;241m40\u001b[39m, \u001b[38;5;241m40\u001b[39m))\n\u001b[1;32m     30\u001b[0m     plt\u001b[38;5;241m.\u001b[39mimshow(img)\n\u001b[0;32m---> 34\u001b[0m mtx \u001b[38;5;241m=\u001b[39m np\u001b[38;5;241m.\u001b[39marray(\u001b[43mmtx\u001b[49m)\n\u001b[1;32m     35\u001b[0m dist \u001b[38;5;241m=\u001b[39m np\u001b[38;5;241m.\u001b[39marray(dist)\n\u001b[1;32m     36\u001b[0m image \u001b[38;5;241m=\u001b[39m cv2\u001b[38;5;241m.\u001b[39mimread(\u001b[38;5;124m\"\u001b[39m\u001b[38;5;124m/home/akanksha/Downloads/HW4/img1.jpg\u001b[39m\u001b[38;5;124m\"\u001b[39m)\n",
      "\u001b[0;31mNameError\u001b[0m: name 'mtx' is not defined"
     ]
    }
   ],
   "source": [
    "import numpy as np\n",
    "import cv2\n",
    "import cv2.aruco as aruco\n",
    "import pathlib\n",
    "import glob\n",
    "import matplotlib.pyplot as plt\n",
    "\n",
    "\n",
    "\n",
    "def draw_cube(img, imgpts):\n",
    "    imgpts = np.int32(imgpts).reshape(-1, 2)\n",
    "    print(imgpts)\n",
    "\n",
    "    # draw floor\n",
    "    floor = cv2.drawContours(img.copy(), [imgpts[:4]], -1, (255, 0, 0), -2)\n",
    "    img = cv2.addWeighted(floor, 0.5, img, 0.9, 0)\n",
    "    aruco.drawDetectedMarkers(img, corners)\n",
    "    aruco.drawAxis(img, mtx, dist, rvecs, tvecs, 1)\n",
    "    # draw pillars\n",
    "    for i, j in zip(range(4), range(4, 8)):\n",
    "        cv2.line(img, tuple(imgpts[i]), tuple(imgpts[j]), (0, 255, 0), 3)\n",
    "\n",
    "    # draw roof\n",
    "    roof = cv2.drawContours(img.copy(), [imgpts[4:]], -1, (0, 0, 255), -2)\n",
    "    img = cv2.addWeighted(roof, 0.5, img, 0.9, 0)\n",
    "#     cv2.imshow(\"winname\", img)\n",
    "#     cv2.waitKey(0)\n",
    "    plt.figure(figsize=(40, 40))\n",
    "\n",
    "    plt.imshow(img)\n",
    "\n",
    "\n",
    "\n",
    "mtx = np.array(mtx)\n",
    "dist = np.array(dist)\n",
    "image = cv2.imread(\"/home/akanksha/Downloads/HW4/img1.jpg\")\n",
    "# image = cv2.imread(\"1.jpg\")\n",
    "aruco_dict = aruco.getPredefinedDictionary(aruco.DICT_6X6_1000)\n",
    "arucoParams = aruco.DetectorParameters_create()\n",
    "# load calibration data\n",
    "\n",
    "# p = 1.15\n",
    "# q = 2.3\n",
    "\n",
    "\n",
    "p = 1.5\n",
    "q = 2.3\n",
    "axis = np.float32([[-p, -p, 0], [-p, p, 0], [p, p, 0], [p, -p, 0],\n",
    "                   [-p, -p, q], [-p, p, q], [p, p, q], [p, -p, q]])\n",
    "# find grid corners in image\n",
    "gray = cv2.cvtColor(image, cv2.COLOR_BGR2GRAY)\n",
    "# cv2.imshow(\"winname\", gray)\n",
    "# cv2.waitKey()\n",
    "# plt.imshow(gray)\n",
    "corners, ids, rejectedImgPoints = aruco.detectMarkers(\n",
    "    gray, aruco_dict, parameters=arucoParams, cameraMatrix=mtx, distCoeff=dist)\n",
    "# print(corners[0][0])\n",
    "rvecs, tvecs, _ = aruco.estimatePoseSingleMarkers(corners, 2.3, mtx, dist)\n",
    "\n",
    "imgpts, _ = cv2.projectPoints(axis, rvecs, tvecs, mtx, distCoeffs=dist)"
   ]
  },
  {
   "cell_type": "code",
   "execution_count": null,
   "id": "4d002d39",
   "metadata": {},
   "outputs": [],
   "source": []
  }
 ],
 "metadata": {
  "kernelspec": {
   "display_name": "Python 3 (ipykernel)",
   "language": "python",
   "name": "python3"
  },
  "language_info": {
   "codemirror_mode": {
    "name": "ipython",
    "version": 3
   },
   "file_extension": ".py",
   "mimetype": "text/x-python",
   "name": "python",
   "nbconvert_exporter": "python",
   "pygments_lexer": "ipython3",
   "version": "3.8.10"
  }
 },
 "nbformat": 4,
 "nbformat_minor": 5
}
